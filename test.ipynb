{
 "cells": [
  {
   "cell_type": "code",
   "execution_count": 3,
   "id": "ad263833",
   "metadata": {},
   "outputs": [],
   "source": [
    "import os\n",
    "import psycopg2\n",
    "from psycopg2 import sql\n",
    "from dotenv import load_dotenv\n",
    "\n",
    "# Load environment variables\n",
    "load_dotenv()\n",
    "\n",
    "def create_connection():\n",
    "    try:\n",
    "        connection = psycopg2.connect(\n",
    "            host=os.getenv(\"DB_HOST\"),\n",
    "            port=os.getenv(\"DB_PORT\"),\n",
    "            database=os.getenv(\"DB_NAME\"),\n",
    "            user=os.getenv(\"DB_USER\"),\n",
    "            password=os.getenv(\"DB_PASSWORD\")\n",
    "        )\n",
    "        return connection\n",
    "    except Exception as e:\n",
    "        print(f\"❌ Error while connecting to PostgreSQL: {e}\")\n",
    "        return None\n",
    "\n",
    "\n",
    "def execute_query(query, params=None, fetch=False):\n",
    "    \"\"\"\n",
    "    Execute a query safely with optional parameters.\n",
    "    :param query: SQL query string\n",
    "    :param params: Tuple of parameters (optional)\n",
    "    :param fetch: Boolean, whether to fetch and return data\n",
    "    :return: fetched data if fetch=True, else None\n",
    "    \"\"\"\n",
    "    conn = create_connection()\n",
    "    if conn is None:\n",
    "        print(\"❌ Failed to connect to DB.\")\n",
    "        return None\n",
    "\n",
    "    try:\n",
    "        with conn.cursor() as cursor:\n",
    "            cursor.execute(query, params)\n",
    "            if fetch:\n",
    "                result = cursor.fetchall()\n",
    "                return result\n",
    "            conn.commit()\n",
    "            print(\"✅ Query executed successfully.\")\n",
    "    except Exception as e:\n",
    "        print(f\"❌ Error executing query: {e}\")\n",
    "        conn.rollback()\n",
    "    finally:\n",
    "        conn.close()\n"
   ]
  },
  {
   "cell_type": "code",
   "execution_count": 6,
   "id": "f96de273",
   "metadata": {},
   "outputs": [
    {
     "name": "stdout",
     "output_type": "stream",
     "text": [
      "(1, 1, 'Mathematics', 85, 'A')\n",
      "(2, 1, 'English', 78, 'B')\n",
      "(3, 2, 'Physics', 92, 'A')\n",
      "(4, 2, 'Chemistry', 88, 'A')\n",
      "(5, 3, 'Computer Science', 95, 'A')\n",
      "(6, 3, 'Statistics', 80, 'B')\n",
      "(7, 4, 'Biology', 70, 'C')\n",
      "(8, 4, 'Chemistry', 75, 'B')\n",
      "(9, 5, 'Economics', 89, 'A')\n",
      "(10, 5, 'Accounting', 82, 'B')\n"
     ]
    }
   ],
   "source": [
    "# Example: Fetch all rows\n",
    "query = \"SELECT * FROM subjects;\"\n",
    "rows = execute_query(query, fetch=True)\n",
    "for row in rows:\n",
    "    print(row)\n"
   ]
  },
  {
   "cell_type": "code",
   "execution_count": null,
   "id": "d00bb22c",
   "metadata": {},
   "outputs": [],
   "source": []
  }
 ],
 "metadata": {
  "kernelspec": {
   "display_name": "myenv",
   "language": "python",
   "name": "python3"
  },
  "language_info": {
   "codemirror_mode": {
    "name": "ipython",
    "version": 3
   },
   "file_extension": ".py",
   "mimetype": "text/x-python",
   "name": "python",
   "nbconvert_exporter": "python",
   "pygments_lexer": "ipython3",
   "version": "3.12.12"
  }
 },
 "nbformat": 4,
 "nbformat_minor": 5
}
